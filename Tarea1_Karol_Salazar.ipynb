{
  "nbformat": 4,
  "nbformat_minor": 0,
  "metadata": {
    "colab": {
      "provenance": [],
      "authorship_tag": "ABX9TyOlf9DPjtFb7oh2hZzQIWjw",
      "include_colab_link": true
    },
    "kernelspec": {
      "name": "python3",
      "display_name": "Python 3"
    },
    "language_info": {
      "name": "python"
    }
  },
  "cells": [
    {
      "cell_type": "markdown",
      "metadata": {
        "id": "view-in-github",
        "colab_type": "text"
      },
      "source": [
        "<a href=\"https://colab.research.google.com/github/KarolSalazar/scaling-octo-train/blob/master/Tarea1_Karol_Salazar.ipynb\" target=\"_parent\"><img src=\"https://colab.research.google.com/assets/colab-badge.svg\" alt=\"Open In Colab\"/></a>"
      ]
    },
    {
      "cell_type": "markdown",
      "source": [
        "##General"
      ],
      "metadata": {
        "id": "2IMopn1cuFdM"
      }
    },
    {
      "cell_type": "code",
      "execution_count": null,
      "metadata": {
        "id": "0sWg7-ZDfAsC"
      },
      "outputs": [],
      "source": [
        "import math\n",
        "class Vector:\n",
        "  def __init__(self, coordenada_x, coordenada_y, coordenada_z):\n",
        "    self.x = coordenada_x\n",
        "    self.y = coordenada_y\n",
        "    self.z = coordenada_z\n",
        "    self.magnitud = (self.x**2 + self.y**2 + self.z**2)**0.5\n",
        "  def __str__(self):\n",
        "    respuesta = \"( \"+str(self.x)+\" , \"+str(self.y)+\" , \"+str(self.z)+\" )\"\n",
        "    return(respuesta)\n",
        "  def suma(self, otra):\n",
        "    respuesta = Vector(self.x+otra.x,self.y+otra.y, self.z+otra.z)\n",
        "    return(respuesta)\n",
        "  def escalar(self, otra):\n",
        "    return(self.x*otra.x+self.y*otra.y)"
      ]
    },
    {
      "cell_type": "markdown",
      "source": [
        "##Parte uno, definir el producto vectorial"
      ],
      "metadata": {
        "id": "q1TdkU8_rdPE"
      }
    },
    {
      "cell_type": "code",
      "source": [
        "1# Defino vectores\n",
        "x_1 = float(input(\"Ingrese coordenada X1: \"))\n",
        "y_1 = float(input(\"Ingrese coordenada Y1: \"))\n",
        "z_1 = float(input(\"Ingrese coordenada Z1: \"))\n",
        "\n",
        "x_2 = float(input(\"Ingrese coordenada X2: \"))\n",
        "y_2 = float(input(\"Ingrese coordenada Y2: \"))\n",
        "z_2 = float(input(\"Ingrese coordenada Z2: \"))\n",
        "\n",
        "vec_1=Vector(x_1, y_1, z_1)\n",
        "vec_2=Vector(x_2, y_2, z_2)\n",
        "\n",
        "x_res = (y_1*z_2)-(z_1*y_2)\n",
        "y_res = ((x_1*z_2)-(z_1*x_2))*(-1)\n",
        "z_res = (x_1*y_2)-(y_1*x_2)\n",
        "\n",
        "vector_Resultado=Vector(x_res,y_res,z_res)\n",
        "\n",
        "print(\"Vector 1:\",vec_1)\n",
        "print(\"Vector 2:\",vec_2)\n",
        "print(\"Suma\",vec_1.suma(vec_2))\n",
        "\n",
        "\"\"\"\n",
        "  vec_1.x -> obtiene la parte X del vector 1\n",
        "  vec_1.y -> obtiene la parte Y del vector 1\n",
        "  vec_2.x -> obtiene la parte X del vector 2\n",
        "  vec_2.y -> obtiene la parte Y del vector 2\n",
        "\"\"\"\n",
        "\n",
        "print(\"Producto vectorial\",vector_Resultado)"
      ],
      "metadata": {
        "colab": {
          "base_uri": "https://localhost:8080/"
        },
        "id": "7UN_78YXraMV",
        "outputId": "0a34503c-97f0-4a85-fa3c-72d9cc3d8138"
      },
      "execution_count": null,
      "outputs": [
        {
          "output_type": "stream",
          "name": "stdout",
          "text": [
            "Ingrese coordenada X1: 1\n",
            "Ingrese coordenada Y1: 2\n",
            "Ingrese coordenada Z1: 3\n",
            "Ingrese coordenada X2: 4\n",
            "Ingrese coordenada Y2: 5\n",
            "Ingrese coordenada Z2: 6\n",
            "Vector 1: ( 1.0 , 2.0 , 3.0 )\n",
            "Vector 2: ( 4.0 , 5.0 , 6.0 )\n",
            "Suma ( 5.0 , 7.0 , 9.0 )\n",
            "Producto vectorial ( -3.0 , 6.0 , -3.0 )\n"
          ]
        }
      ]
    },
    {
      "cell_type": "markdown",
      "source": [
        "##Parte dos, aplicación de física\n",
        "\n",
        "###la aplicación es de la \"ecuación del espejo\"\n",
        "\n",
        "Se desea hallar la distancia a la cuál se reproduce una imagen (q)\n",
        "\n",
        "Tenemos el valor de la distancia sobre la cuál se encuentra el objeto (p)\n",
        "\n",
        "Tenemos el valor de la distancia del punto focal (f)"
      ],
      "metadata": {
        "id": "dOpeat6QsUJ8"
      }
    },
    {
      "cell_type": "code",
      "source": [
        "import math\n",
        "p = float(input(\"Ingrese la distancia (p): \"))\n",
        "f = float(input(\"Ingrese la distancia (f): \"))\n",
        "\n",
        "\"\"\"\n",
        "  Fórmula de la ecuación del espejo:\n",
        "  (1/p) + (1/q) = 1/f\n",
        "  tenemos que hallar (q) por ende despejamos:\n",
        "  1/q = (p-f)/(pf)\n",
        "  q = (p*f)/(p-f)\n",
        "\"\"\"\n",
        "q = (p*f)/(p-f)\n",
        "\n",
        "print(\"La distancia a la cuál se reproduce la imagen (q) es:\", q)"
      ],
      "metadata": {
        "colab": {
          "base_uri": "https://localhost:8080/"
        },
        "id": "HdVpxIDrsCtd",
        "outputId": "c7daccb6-2ff7-4a22-cc06-d9b108de4966"
      },
      "execution_count": null,
      "outputs": [
        {
          "output_type": "stream",
          "name": "stdout",
          "text": [
            "Ingrese la distancia (p): 4\n",
            "Ingrese la distancia (f): 5\n",
            "La distancia a la cuál se reproduce la imagen (q) es: -20.0\n"
          ]
        }
      ]
    }
  ]
}